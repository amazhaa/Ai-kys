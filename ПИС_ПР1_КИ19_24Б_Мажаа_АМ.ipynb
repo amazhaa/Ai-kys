{
  "nbformat": 4,
  "nbformat_minor": 0,
  "metadata": {
    "colab": {
      "name": "ПИС ПР1 КИ19-24Б Мажаа АМ",
      "provenance": [],
      "collapsed_sections": [],
      "authorship_tag": "ABX9TyOvADMussp6i+UHvW3ItnKX",
      "include_colab_link": true
    },
    "kernelspec": {
      "name": "python3",
      "display_name": "Python 3"
    }
  },
  "cells": [
    {
      "cell_type": "markdown",
      "metadata": {
        "id": "view-in-github",
        "colab_type": "text"
      },
      "source": [
        "<a href=\"https://colab.research.google.com/github/amazhaa/Ai-kys/blob/main/%D0%9F%D0%98%D0%A1_%D0%9F%D0%A01_%D0%9A%D0%9819_24%D0%91_%D0%9C%D0%B0%D0%B6%D0%B0%D0%B0_%D0%90%D0%9C.ipynb\" target=\"_parent\"><img src=\"https://colab.research.google.com/assets/colab-badge.svg\" alt=\"Open In Colab\"/></a>"
      ]
    },
    {
      "cell_type": "code",
      "metadata": {
        "colab": {
          "base_uri": "https://localhost:8080/"
        },
        "id": "sk4S8_QJdlnL",
        "outputId": "6e2fb191-9638-4667-ecab-7762a3d742d5"
      },
      "source": [
        "print(\"Hello world\")"
      ],
      "execution_count": 1,
      "outputs": [
        {
          "output_type": "stream",
          "text": [
            "Hello world\n"
          ],
          "name": "stdout"
        }
      ]
    },
    {
      "cell_type": "code",
      "metadata": {
        "id": "LsWp22FsZ6qo"
      },
      "source": [
        "#@title Практическая работа №1\r\n",
        "#@markdown ---\r\n",
        "name = \"\\u041C\\u0430\\u0436\\u0430\\u0430 \\u0410\\u0439-\\u043A\\u044B\\u0441 \\u041C\\u0435\\u0440\\u0433\\u0435\\u043D-\\u0425\\u0435\\u0440\\u0435\\u043B\\u043E\\u0432\\u043D\\u0430\" #@param {type:\"string\"}\r\n",
        "group = \"\\u041A\\u041819-24\\u0411\" #@param [\"КИ19-20Б\", \"КИ19-21Б\", \"КИ19-22Б\", \"КИ19-23Б\", \"КИ19-24Б\"]\r\n"
      ],
      "execution_count": null,
      "outputs": []
    }
  ]
}